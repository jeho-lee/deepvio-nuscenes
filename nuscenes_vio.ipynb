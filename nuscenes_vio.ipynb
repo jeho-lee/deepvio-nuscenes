{
 "cells": [
  {
   "cell_type": "code",
   "execution_count": 1,
   "metadata": {},
   "outputs": [],
   "source": [
    "from nuscenes.nuscenes import NuScenes\n",
    "from nuscenes.can_bus.can_bus_api import NuScenesCanBus\n",
    "from nuscenes.utils import splits\n",
    "import mmcv\n",
    "import numpy as np\n",
    "import pprint\n",
    "import argparse\n",
    "import os\n",
    "import torch\n",
    "import logging\n",
    "from path import Path\n",
    "from utils import custom_transform\n",
    "from dataset.KITTI_dataset import KITTI\n",
    "from dataset.NuScenes_dataset import NuScenes_Dataset\n",
    "from model import DeepVIO\n",
    "from collections import defaultdict\n",
    "from utils.kitti_eval import KITTI_tester, data_partition\n",
    "import numpy as np\n",
    "import math\n",
    "import os\n",
    "import glob\n",
    "import numpy as np\n",
    "import time\n",
    "import scipy.io as sio\n",
    "import torch\n",
    "from PIL import Image\n",
    "import torchvision.transforms.functional as TF\n",
    "import matplotlib.pyplot as plt\n",
    "import math\n",
    "from utils.utils import *\n",
    "import nuscenes.utils.geometry_utils as geometry_utils\n",
    "from pyquaternion import Quaternion\n",
    "from utils.utils import rotationError, read_pose_from_text\n",
    "from collections import Counter\n",
    "from scipy.ndimage import gaussian_filter1d\n",
    "from scipy.signal.windows import triang\n",
    "from scipy.ndimage import convolve1d\n",
    "from torch.utils.data import Dataset\n",
    "from utils import custom_transform\n",
    "from utils.nuscenes_eval import NuScenes_Tester"
   ]
  },
  {
   "cell_type": "code",
   "execution_count": 2,
   "metadata": {},
   "outputs": [],
   "source": [
    "#########################################################################################\n",
    "dataroot = '/data/public/360_3D_OD_Dataset/nuscenes'\n",
    "cam_names = [\"CAM_FRONT\", \"CAM_FRONT_RIGHT\", \"CAM_BACK_RIGHT\", \"CAM_BACK\", \"CAM_BACK_LEFT\", \"CAM_FRONT_LEFT\"]\n",
    "# ckpt_path = './pretrained_models/vf_512_if_256_3e-05.model'\n",
    "ckpt_path = './pretrained_models/best_0.10.pth'\n",
    "#########################################################################################"
   ]
  },
  {
   "cell_type": "code",
   "execution_count": 3,
   "metadata": {},
   "outputs": [],
   "source": [
    "nusc_can = NuScenesCanBus(dataroot=dataroot)\n",
    "nusc = NuScenes(version='v1.0-trainval', dataroot=dataroot, verbose=False)"
   ]
  },
  {
   "cell_type": "code",
   "execution_count": 4,
   "metadata": {},
   "outputs": [],
   "source": [
    "os.environ[\"CUDA_DEVICE_ORDER\"]=\"PCI_BUS_ID\"  # Arrange GPU devices starting from 0\n",
    "os.environ[\"CUDA_VISIBLE_DEVICES\"]= \"7\"  # Set the GPUs 2 and 3 to use\n",
    "# device = torch.device(\"cuda\" if torch.cuda.is_available() else \"cpu\")\n",
    "device = '7'\n",
    "# device = 'cuda:2'"
   ]
  },
  {
   "cell_type": "markdown",
   "metadata": {},
   "source": [
    "---"
   ]
  },
  {
   "cell_type": "code",
   "execution_count": 65,
   "metadata": {},
   "outputs": [],
   "source": [
    "parser = argparse.ArgumentParser(formatter_class=argparse.ArgumentDefaultsHelpFormatter)\n",
    "\n",
    "# parser.add_argument('--img_w', type=int, default=512, help='image width')\n",
    "# parser.add_argument('--img_h', type=int, default=256, help='image height')\n",
    "parser.add_argument('--img_w', type=int, default=448, help='image width')\n",
    "parser.add_argument('--img_h', type=int, default=256, help='image height')\n",
    "parser.add_argument('--seq_len', type=int, default=11, help='sequence length for LSTM')\n",
    "parser.add_argument('--keyframe_only', default=False, action='store_true', help='whether to use keyframe only')\n",
    "parser.add_argument('--sampling_rate', type=int, default=1, help='sampling rate for the training input data')\n",
    "parser.add_argument('--max_imu_length', type=int, default=10, help='maximum imu length for each sequence') # 50 for nuscenes, 11 for kitti\n",
    "\n",
    "\n",
    "\n",
    "parser.add_argument('--save_dir', type=str, default='./results', help='path to save the result')\n",
    "parser.add_argument('--seed', type=int, default=0, help='random seed')\n",
    "parser.add_argument('--v_f_len', type=int, default=512, help='visual feature length')\n",
    "parser.add_argument('--i_f_len', type=int, default=256, help='imu feature length')\n",
    "parser.add_argument('--fuse_method', type=str, default='cat', help='fusion method [cat, soft, hard]')\n",
    "parser.add_argument('--imu_dropout', type=float, default=0, help='dropout for the IMU encoder')\n",
    "parser.add_argument('--rnn_hidden_size', type=int, default=1024, help='size of the LSTM latent')\n",
    "parser.add_argument('--rnn_dropout_out', type=float, default=0.2, help='dropout for the LSTM output layer')\n",
    "parser.add_argument('--rnn_dropout_between', type=float, default=0.2, help='dropout within LSTM')\n",
    "parser.add_argument('--weight_decay', type=float, default=5e-6, help='weight decay for the optimizer')\n",
    "parser.add_argument('--workers', type=int, default=4, help='number of workers')\n",
    "parser.add_argument('--batch_size', type=int, default=64, help='batch size')\n",
    "parser.add_argument('--epochs_warmup', type=int, default=5, help='number of epochs for warmup')\n",
    "parser.add_argument('--epochs_joint', type=int, default=15, help='number of epochs for joint training')\n",
    "parser.add_argument('--epochs_fine', type=int, default=5, help='number of epochs for finetuning')\n",
    "parser.add_argument('--lr_warmup', type=float, default=5e-4, help='learning rate for warming up stage')\n",
    "parser.add_argument('--lr_joint', type=float, default=5e-5, help='learning rate for joint training stage')\n",
    "parser.add_argument('--lr_fine', type=float, default=1e-6, help='learning rate for finetuning stage')\n",
    "parser.add_argument('--eta', type=float, default=0.05, help='exponential decay factor for temperature')\n",
    "parser.add_argument('--temp_init', type=float, default=5, help='initial temperature for gumbel-softmax')\n",
    "parser.add_argument('--Lambda', type=float, default=3e-5, help='penalty factor for the visual encoder usage')\n",
    "parser.add_argument('--experiment_name', type=str, default='experiment', help='experiment name')\n",
    "parser.add_argument('--optimizer', type=str, default='Adam', help='type of optimizer [Adam, SGD]')\n",
    "parser.add_argument('--pretrain_flownet',type=str, default='./pretrained_models/flownets_bn_EPE2.459.pth.tar', help='wehther to use the pre-trained flownet')\n",
    "parser.add_argument('--pretrain', type=str, default=None, help='path to the pretrained model')\n",
    "parser.add_argument('--hflip', default=False, action='store_true', help='whether to use horizonal flipping as augmentation')\n",
    "parser.add_argument('--color', default=False, action='store_true', help='whether to use color augmentations')\n",
    "parser.add_argument('--print_frequency', type=int, default=10, help='print frequency for loss values')\n",
    "parser.add_argument('--weighted', default=False, action='store_true', help='whether to use weighted sum')\n",
    "\n",
    "args = parser.parse_args(args=[])"
   ]
  },
  {
   "cell_type": "code",
   "execution_count": 66,
   "metadata": {},
   "outputs": [
    {
     "name": "stdout",
     "output_type": "stream",
     "text": [
      "skipped scenes: 73\n",
      "total samples: 1740\n"
     ]
    }
   ],
   "source": [
    "mmcv.mkdir_or_exist(args.save_dir)\n",
    "checkpoints_dir = os.path.join(args.save_dir, \"experiment_1\")\n",
    "mmcv.mkdir_or_exist(checkpoints_dir)\n",
    "\n",
    "# Create logs\n",
    "logger = logging.getLogger(args.experiment_name)\n",
    "logger.setLevel(logging.INFO)\n",
    "formatter = logging.Formatter('%(asctime)s - %(name)s - %(levelname)s - %(message)s')\n",
    "logger.info('----------------------------------------TRAINING----------------------------------')\n",
    "logger.info('PARAMETER ...')\n",
    "logger.info(args)\n",
    "\n",
    "# Load the dataset\n",
    "transform_train = [custom_transform.ToTensor(), custom_transform.Resize((args.img_h, args.img_w))]\n",
    "if args.hflip:\n",
    "    transform_train += [custom_transform.RandomHorizontalFlip()]\n",
    "if args.color:\n",
    "    transform_train += [custom_transform.RandomColorAug()]\n",
    "transform_train = custom_transform.Compose(transform_train)\n",
    "\n",
    "val_dataset = NuScenes_Dataset(dataroot,\n",
    "                                mode='val',\n",
    "                                sequence_length=args.seq_len,\n",
    "                                keyframe_only=args.keyframe_only,\n",
    "                                sampling_rate=args.sampling_rate,\n",
    "                                max_imu_length=args.max_imu_length,\n",
    "                                cam_names=cam_names,\n",
    "                                transform=transform_train,\n",
    "                                nusc=nusc,\n",
    "                                nusc_can=nusc_can,\n",
    "                                args=args)\n",
    "\n",
    "val_scene_datasets = val_dataset.get_val_dataset()"
   ]
  },
  {
   "cell_type": "code",
   "execution_count": null,
   "metadata": {},
   "outputs": [],
   "source": []
  },
  {
   "cell_type": "code",
   "execution_count": null,
   "metadata": {},
   "outputs": [],
   "source": []
  },
  {
   "cell_type": "code",
   "execution_count": null,
   "metadata": {},
   "outputs": [],
   "source": []
  },
  {
   "cell_type": "code",
   "execution_count": 67,
   "metadata": {},
   "outputs": [
    {
     "name": "stdout",
     "output_type": "stream",
     "text": [
      "load model ./pretrained_models/best_0.10.pth\n",
      "testing sequence 0\n"
     ]
    },
    {
     "name": "stderr",
     "output_type": "stream",
     "text": [
      "100%|██████████| 23/23 [00:10<00:00,  2.19it/s]\n"
     ]
    },
    {
     "name": "stdout",
     "output_type": "stream",
     "text": [
      "testing sequence 1\n"
     ]
    },
    {
     "name": "stderr",
     "output_type": "stream",
     "text": [
      "100%|██████████| 22/22 [00:10<00:00,  2.12it/s]\n"
     ]
    },
    {
     "name": "stdout",
     "output_type": "stream",
     "text": [
      "testing sequence 2\n"
     ]
    },
    {
     "name": "stderr",
     "output_type": "stream",
     "text": [
      "100%|██████████| 22/22 [00:10<00:00,  2.14it/s]\n"
     ]
    },
    {
     "name": "stdout",
     "output_type": "stream",
     "text": [
      "testing sequence 3\n"
     ]
    },
    {
     "name": "stderr",
     "output_type": "stream",
     "text": [
      "100%|██████████| 22/22 [00:10<00:00,  2.19it/s]\n"
     ]
    },
    {
     "name": "stdout",
     "output_type": "stream",
     "text": [
      "testing sequence 4\n"
     ]
    },
    {
     "name": "stderr",
     "output_type": "stream",
     "text": [
      "100%|██████████| 22/22 [00:10<00:00,  2.10it/s]\n"
     ]
    },
    {
     "name": "stdout",
     "output_type": "stream",
     "text": [
      "testing sequence 5\n"
     ]
    },
    {
     "name": "stderr",
     "output_type": "stream",
     "text": [
      "100%|██████████| 23/23 [00:10<00:00,  2.10it/s]\n"
     ]
    },
    {
     "name": "stdout",
     "output_type": "stream",
     "text": [
      "testing sequence 6\n"
     ]
    },
    {
     "name": "stderr",
     "output_type": "stream",
     "text": [
      "100%|██████████| 23/23 [00:10<00:00,  2.23it/s]\n"
     ]
    },
    {
     "name": "stdout",
     "output_type": "stream",
     "text": [
      "testing sequence 7\n"
     ]
    },
    {
     "name": "stderr",
     "output_type": "stream",
     "text": [
      "100%|██████████| 22/22 [00:10<00:00,  2.17it/s]\n"
     ]
    },
    {
     "name": "stdout",
     "output_type": "stream",
     "text": [
      "testing sequence 8\n"
     ]
    },
    {
     "name": "stderr",
     "output_type": "stream",
     "text": [
      "100%|██████████| 22/22 [00:10<00:00,  2.11it/s]\n"
     ]
    },
    {
     "name": "stdout",
     "output_type": "stream",
     "text": [
      "testing sequence 9\n"
     ]
    },
    {
     "name": "stderr",
     "output_type": "stream",
     "text": [
      "100%|██████████| 22/22 [00:10<00:00,  2.08it/s]\n"
     ]
    },
    {
     "name": "stdout",
     "output_type": "stream",
     "text": [
      "testing sequence 10\n"
     ]
    },
    {
     "name": "stderr",
     "output_type": "stream",
     "text": [
      "100%|██████████| 22/22 [00:10<00:00,  2.09it/s]\n"
     ]
    },
    {
     "name": "stdout",
     "output_type": "stream",
     "text": [
      "testing sequence 11\n"
     ]
    },
    {
     "name": "stderr",
     "output_type": "stream",
     "text": [
      "100%|██████████| 23/23 [00:10<00:00,  2.09it/s]\n"
     ]
    },
    {
     "name": "stdout",
     "output_type": "stream",
     "text": [
      "testing sequence 12\n"
     ]
    },
    {
     "name": "stderr",
     "output_type": "stream",
     "text": [
      "100%|██████████| 23/23 [00:10<00:00,  2.14it/s]\n"
     ]
    },
    {
     "name": "stdout",
     "output_type": "stream",
     "text": [
      "testing sequence 13\n"
     ]
    },
    {
     "name": "stderr",
     "output_type": "stream",
     "text": [
      "100%|██████████| 23/23 [00:10<00:00,  2.11it/s]\n"
     ]
    },
    {
     "name": "stdout",
     "output_type": "stream",
     "text": [
      "testing sequence 14\n"
     ]
    },
    {
     "name": "stderr",
     "output_type": "stream",
     "text": [
      "100%|██████████| 23/23 [00:11<00:00,  2.06it/s]\n"
     ]
    },
    {
     "name": "stdout",
     "output_type": "stream",
     "text": [
      "testing sequence 15\n"
     ]
    },
    {
     "name": "stderr",
     "output_type": "stream",
     "text": [
      "100%|██████████| 22/22 [00:10<00:00,  2.15it/s]\n"
     ]
    },
    {
     "name": "stdout",
     "output_type": "stream",
     "text": [
      "testing sequence 16\n"
     ]
    },
    {
     "name": "stderr",
     "output_type": "stream",
     "text": [
      "100%|██████████| 23/23 [00:10<00:00,  2.23it/s]\n"
     ]
    },
    {
     "name": "stdout",
     "output_type": "stream",
     "text": [
      "testing sequence 17\n"
     ]
    },
    {
     "name": "stderr",
     "output_type": "stream",
     "text": [
      "100%|██████████| 23/23 [00:10<00:00,  2.13it/s]\n"
     ]
    },
    {
     "name": "stdout",
     "output_type": "stream",
     "text": [
      "testing sequence 18\n"
     ]
    },
    {
     "name": "stderr",
     "output_type": "stream",
     "text": [
      "100%|██████████| 23/23 [00:10<00:00,  2.20it/s]\n"
     ]
    },
    {
     "name": "stdout",
     "output_type": "stream",
     "text": [
      "testing sequence 19\n"
     ]
    },
    {
     "name": "stderr",
     "output_type": "stream",
     "text": [
      "100%|██████████| 23/23 [00:10<00:00,  2.09it/s]\n"
     ]
    },
    {
     "name": "stdout",
     "output_type": "stream",
     "text": [
      "testing sequence 20\n"
     ]
    },
    {
     "name": "stderr",
     "output_type": "stream",
     "text": [
      "100%|██████████| 23/23 [00:11<00:00,  2.08it/s]\n"
     ]
    },
    {
     "name": "stdout",
     "output_type": "stream",
     "text": [
      "testing sequence 21\n"
     ]
    },
    {
     "name": "stderr",
     "output_type": "stream",
     "text": [
      "100%|██████████| 23/23 [00:11<00:00,  2.08it/s]\n"
     ]
    },
    {
     "name": "stdout",
     "output_type": "stream",
     "text": [
      "testing sequence 22\n"
     ]
    },
    {
     "name": "stderr",
     "output_type": "stream",
     "text": [
      "100%|██████████| 21/21 [00:09<00:00,  2.12it/s]\n"
     ]
    },
    {
     "name": "stdout",
     "output_type": "stream",
     "text": [
      "testing sequence 23\n"
     ]
    },
    {
     "name": "stderr",
     "output_type": "stream",
     "text": [
      "100%|██████████| 22/22 [00:10<00:00,  2.13it/s]\n"
     ]
    },
    {
     "name": "stdout",
     "output_type": "stream",
     "text": [
      "testing sequence 24\n"
     ]
    },
    {
     "name": "stderr",
     "output_type": "stream",
     "text": [
      "100%|██████████| 23/23 [00:10<00:00,  2.20it/s]\n"
     ]
    },
    {
     "name": "stdout",
     "output_type": "stream",
     "text": [
      "testing sequence 25\n"
     ]
    },
    {
     "name": "stderr",
     "output_type": "stream",
     "text": [
      "100%|██████████| 23/23 [00:10<00:00,  2.16it/s]\n"
     ]
    },
    {
     "name": "stdout",
     "output_type": "stream",
     "text": [
      "testing sequence 26\n"
     ]
    },
    {
     "name": "stderr",
     "output_type": "stream",
     "text": [
      "100%|██████████| 23/23 [00:10<00:00,  2.19it/s]\n"
     ]
    },
    {
     "name": "stdout",
     "output_type": "stream",
     "text": [
      "testing sequence 27\n"
     ]
    },
    {
     "name": "stderr",
     "output_type": "stream",
     "text": [
      "100%|██████████| 21/21 [00:09<00:00,  2.19it/s]\n"
     ]
    },
    {
     "name": "stdout",
     "output_type": "stream",
     "text": [
      "testing sequence 28\n"
     ]
    },
    {
     "name": "stderr",
     "output_type": "stream",
     "text": [
      "100%|██████████| 23/23 [00:11<00:00,  2.06it/s]\n"
     ]
    },
    {
     "name": "stdout",
     "output_type": "stream",
     "text": [
      "testing sequence 29\n"
     ]
    },
    {
     "name": "stderr",
     "output_type": "stream",
     "text": [
      "100%|██████████| 23/23 [00:10<00:00,  2.16it/s]\n"
     ]
    },
    {
     "name": "stdout",
     "output_type": "stream",
     "text": [
      "testing sequence 30\n"
     ]
    },
    {
     "name": "stderr",
     "output_type": "stream",
     "text": [
      "100%|██████████| 23/23 [00:10<00:00,  2.17it/s]\n"
     ]
    },
    {
     "name": "stdout",
     "output_type": "stream",
     "text": [
      "testing sequence 31\n"
     ]
    },
    {
     "name": "stderr",
     "output_type": "stream",
     "text": [
      "100%|██████████| 23/23 [00:11<00:00,  2.09it/s]\n"
     ]
    },
    {
     "name": "stdout",
     "output_type": "stream",
     "text": [
      "testing sequence 32\n"
     ]
    },
    {
     "name": "stderr",
     "output_type": "stream",
     "text": [
      "100%|██████████| 23/23 [00:10<00:00,  2.15it/s]\n"
     ]
    },
    {
     "name": "stdout",
     "output_type": "stream",
     "text": [
      "testing sequence 33\n"
     ]
    },
    {
     "name": "stderr",
     "output_type": "stream",
     "text": [
      "100%|██████████| 22/22 [00:10<00:00,  2.18it/s]\n"
     ]
    },
    {
     "name": "stdout",
     "output_type": "stream",
     "text": [
      "testing sequence 34\n"
     ]
    },
    {
     "name": "stderr",
     "output_type": "stream",
     "text": [
      "100%|██████████| 21/21 [00:09<00:00,  2.13it/s]\n"
     ]
    },
    {
     "name": "stdout",
     "output_type": "stream",
     "text": [
      "testing sequence 35\n"
     ]
    },
    {
     "name": "stderr",
     "output_type": "stream",
     "text": [
      "100%|██████████| 23/23 [00:10<00:00,  2.10it/s]\n"
     ]
    },
    {
     "name": "stdout",
     "output_type": "stream",
     "text": [
      "testing sequence 36\n"
     ]
    },
    {
     "name": "stderr",
     "output_type": "stream",
     "text": [
      "100%|██████████| 23/23 [00:10<00:00,  2.14it/s]\n"
     ]
    },
    {
     "name": "stdout",
     "output_type": "stream",
     "text": [
      "testing sequence 37\n"
     ]
    },
    {
     "name": "stderr",
     "output_type": "stream",
     "text": [
      "100%|██████████| 22/22 [00:10<00:00,  2.15it/s]\n"
     ]
    },
    {
     "name": "stdout",
     "output_type": "stream",
     "text": [
      "testing sequence 38\n"
     ]
    },
    {
     "name": "stderr",
     "output_type": "stream",
     "text": [
      "100%|██████████| 23/23 [00:10<00:00,  2.12it/s]\n"
     ]
    },
    {
     "name": "stdout",
     "output_type": "stream",
     "text": [
      "testing sequence 39\n"
     ]
    },
    {
     "name": "stderr",
     "output_type": "stream",
     "text": [
      "100%|██████████| 23/23 [00:10<00:00,  2.18it/s]\n"
     ]
    },
    {
     "name": "stdout",
     "output_type": "stream",
     "text": [
      "testing sequence 40\n"
     ]
    },
    {
     "name": "stderr",
     "output_type": "stream",
     "text": [
      "100%|██████████| 23/23 [00:10<00:00,  2.13it/s]\n"
     ]
    },
    {
     "name": "stdout",
     "output_type": "stream",
     "text": [
      "testing sequence 41\n"
     ]
    },
    {
     "name": "stderr",
     "output_type": "stream",
     "text": [
      "100%|██████████| 22/22 [00:10<00:00,  2.11it/s]\n"
     ]
    },
    {
     "name": "stdout",
     "output_type": "stream",
     "text": [
      "testing sequence 42\n"
     ]
    },
    {
     "name": "stderr",
     "output_type": "stream",
     "text": [
      "100%|██████████| 23/23 [00:10<00:00,  2.19it/s]\n"
     ]
    },
    {
     "name": "stdout",
     "output_type": "stream",
     "text": [
      "testing sequence 43\n"
     ]
    },
    {
     "name": "stderr",
     "output_type": "stream",
     "text": [
      "100%|██████████| 23/23 [00:10<00:00,  2.22it/s]\n"
     ]
    },
    {
     "name": "stdout",
     "output_type": "stream",
     "text": [
      "testing sequence 44\n"
     ]
    },
    {
     "name": "stderr",
     "output_type": "stream",
     "text": [
      "100%|██████████| 22/22 [00:10<00:00,  2.15it/s]\n"
     ]
    },
    {
     "name": "stdout",
     "output_type": "stream",
     "text": [
      "testing sequence 45\n"
     ]
    },
    {
     "name": "stderr",
     "output_type": "stream",
     "text": [
      "100%|██████████| 22/22 [00:09<00:00,  2.25it/s]\n"
     ]
    },
    {
     "name": "stdout",
     "output_type": "stream",
     "text": [
      "testing sequence 46\n"
     ]
    },
    {
     "name": "stderr",
     "output_type": "stream",
     "text": [
      "100%|██████████| 22/22 [00:11<00:00,  2.00it/s]\n"
     ]
    },
    {
     "name": "stdout",
     "output_type": "stream",
     "text": [
      "testing sequence 47\n"
     ]
    },
    {
     "name": "stderr",
     "output_type": "stream",
     "text": [
      "100%|██████████| 23/23 [00:11<00:00,  2.07it/s]\n"
     ]
    },
    {
     "name": "stdout",
     "output_type": "stream",
     "text": [
      "testing sequence 48\n"
     ]
    },
    {
     "name": "stderr",
     "output_type": "stream",
     "text": [
      "100%|██████████| 23/23 [00:10<00:00,  2.12it/s]\n"
     ]
    },
    {
     "name": "stdout",
     "output_type": "stream",
     "text": [
      "testing sequence 49\n"
     ]
    },
    {
     "name": "stderr",
     "output_type": "stream",
     "text": [
      "100%|██████████| 23/23 [00:10<00:00,  2.20it/s]\n"
     ]
    },
    {
     "name": "stdout",
     "output_type": "stream",
     "text": [
      "testing sequence 50\n"
     ]
    },
    {
     "name": "stderr",
     "output_type": "stream",
     "text": [
      "100%|██████████| 23/23 [00:10<00:00,  2.12it/s]\n"
     ]
    },
    {
     "name": "stdout",
     "output_type": "stream",
     "text": [
      "testing sequence 51\n"
     ]
    },
    {
     "name": "stderr",
     "output_type": "stream",
     "text": [
      "100%|██████████| 23/23 [00:10<00:00,  2.10it/s]\n"
     ]
    },
    {
     "name": "stdout",
     "output_type": "stream",
     "text": [
      "testing sequence 52\n"
     ]
    },
    {
     "name": "stderr",
     "output_type": "stream",
     "text": [
      "100%|██████████| 22/22 [00:10<00:00,  2.15it/s]\n"
     ]
    },
    {
     "name": "stdout",
     "output_type": "stream",
     "text": [
      "testing sequence 53\n"
     ]
    },
    {
     "name": "stderr",
     "output_type": "stream",
     "text": [
      "100%|██████████| 23/23 [00:10<00:00,  2.13it/s]\n"
     ]
    },
    {
     "name": "stdout",
     "output_type": "stream",
     "text": [
      "testing sequence 54\n"
     ]
    },
    {
     "name": "stderr",
     "output_type": "stream",
     "text": [
      "100%|██████████| 23/23 [00:10<00:00,  2.22it/s]\n"
     ]
    },
    {
     "name": "stdout",
     "output_type": "stream",
     "text": [
      "testing sequence 55\n"
     ]
    },
    {
     "name": "stderr",
     "output_type": "stream",
     "text": [
      "100%|██████████| 23/23 [00:10<00:00,  2.13it/s]\n"
     ]
    },
    {
     "name": "stdout",
     "output_type": "stream",
     "text": [
      "testing sequence 56\n"
     ]
    },
    {
     "name": "stderr",
     "output_type": "stream",
     "text": [
      "100%|██████████| 23/23 [00:10<00:00,  2.18it/s]\n"
     ]
    },
    {
     "name": "stdout",
     "output_type": "stream",
     "text": [
      "testing sequence 57\n"
     ]
    },
    {
     "name": "stderr",
     "output_type": "stream",
     "text": [
      "100%|██████████| 23/23 [00:10<00:00,  2.25it/s]\n"
     ]
    },
    {
     "name": "stdout",
     "output_type": "stream",
     "text": [
      "testing sequence 58\n"
     ]
    },
    {
     "name": "stderr",
     "output_type": "stream",
     "text": [
      "100%|██████████| 22/22 [00:10<00:00,  2.18it/s]\n"
     ]
    },
    {
     "name": "stdout",
     "output_type": "stream",
     "text": [
      "testing sequence 59\n"
     ]
    },
    {
     "name": "stderr",
     "output_type": "stream",
     "text": [
      "100%|██████████| 23/23 [00:10<00:00,  2.16it/s]\n"
     ]
    },
    {
     "name": "stdout",
     "output_type": "stream",
     "text": [
      "testing sequence 60\n"
     ]
    },
    {
     "name": "stderr",
     "output_type": "stream",
     "text": [
      "100%|██████████| 22/22 [00:10<00:00,  2.10it/s]\n"
     ]
    },
    {
     "name": "stdout",
     "output_type": "stream",
     "text": [
      "testing sequence 61\n"
     ]
    },
    {
     "name": "stderr",
     "output_type": "stream",
     "text": [
      "100%|██████████| 23/23 [00:10<00:00,  2.13it/s]\n"
     ]
    },
    {
     "name": "stdout",
     "output_type": "stream",
     "text": [
      "testing sequence 62\n"
     ]
    },
    {
     "name": "stderr",
     "output_type": "stream",
     "text": [
      "100%|██████████| 23/23 [00:11<00:00,  2.04it/s]\n"
     ]
    },
    {
     "name": "stdout",
     "output_type": "stream",
     "text": [
      "testing sequence 63\n"
     ]
    },
    {
     "name": "stderr",
     "output_type": "stream",
     "text": [
      "100%|██████████| 22/22 [00:09<00:00,  2.22it/s]\n"
     ]
    },
    {
     "name": "stdout",
     "output_type": "stream",
     "text": [
      "testing sequence 64\n"
     ]
    },
    {
     "name": "stderr",
     "output_type": "stream",
     "text": [
      "100%|██████████| 22/22 [00:10<00:00,  2.18it/s]\n"
     ]
    },
    {
     "name": "stdout",
     "output_type": "stream",
     "text": [
      "testing sequence 65\n"
     ]
    },
    {
     "name": "stderr",
     "output_type": "stream",
     "text": [
      "100%|██████████| 23/23 [00:10<00:00,  2.17it/s]\n"
     ]
    },
    {
     "name": "stdout",
     "output_type": "stream",
     "text": [
      "testing sequence 66\n"
     ]
    },
    {
     "name": "stderr",
     "output_type": "stream",
     "text": [
      "100%|██████████| 23/23 [00:10<00:00,  2.16it/s]\n"
     ]
    },
    {
     "name": "stdout",
     "output_type": "stream",
     "text": [
      "testing sequence 67\n"
     ]
    },
    {
     "name": "stderr",
     "output_type": "stream",
     "text": [
      "100%|██████████| 22/22 [00:11<00:00,  2.00it/s]\n"
     ]
    },
    {
     "name": "stdout",
     "output_type": "stream",
     "text": [
      "testing sequence 68\n"
     ]
    },
    {
     "name": "stderr",
     "output_type": "stream",
     "text": [
      "100%|██████████| 23/23 [00:10<00:00,  2.14it/s]\n"
     ]
    },
    {
     "name": "stdout",
     "output_type": "stream",
     "text": [
      "testing sequence 69\n"
     ]
    },
    {
     "name": "stderr",
     "output_type": "stream",
     "text": [
      "100%|██████████| 22/22 [00:09<00:00,  2.21it/s]\n"
     ]
    },
    {
     "name": "stdout",
     "output_type": "stream",
     "text": [
      "testing sequence 70\n"
     ]
    },
    {
     "name": "stderr",
     "output_type": "stream",
     "text": [
      "100%|██████████| 22/22 [00:10<00:00,  2.15it/s]\n"
     ]
    },
    {
     "name": "stdout",
     "output_type": "stream",
     "text": [
      "testing sequence 71\n"
     ]
    },
    {
     "name": "stderr",
     "output_type": "stream",
     "text": [
      "100%|██████████| 23/23 [00:10<00:00,  2.10it/s]\n"
     ]
    },
    {
     "name": "stdout",
     "output_type": "stream",
     "text": [
      "testing sequence 72\n"
     ]
    },
    {
     "name": "stderr",
     "output_type": "stream",
     "text": [
      "100%|██████████| 23/23 [00:10<00:00,  2.13it/s]\n"
     ]
    },
    {
     "name": "stdout",
     "output_type": "stream",
     "text": [
      "testing sequence 73\n"
     ]
    },
    {
     "name": "stderr",
     "output_type": "stream",
     "text": [
      "100%|██████████| 22/22 [00:10<00:00,  2.18it/s]\n"
     ]
    },
    {
     "name": "stdout",
     "output_type": "stream",
     "text": [
      "testing sequence 74\n"
     ]
    },
    {
     "name": "stderr",
     "output_type": "stream",
     "text": [
      "100%|██████████| 23/23 [00:10<00:00,  2.13it/s]\n"
     ]
    },
    {
     "name": "stdout",
     "output_type": "stream",
     "text": [
      "testing sequence 75\n"
     ]
    },
    {
     "name": "stderr",
     "output_type": "stream",
     "text": [
      "100%|██████████| 23/23 [00:10<00:00,  2.17it/s]\n"
     ]
    },
    {
     "name": "stdout",
     "output_type": "stream",
     "text": [
      "testing sequence 76\n"
     ]
    },
    {
     "name": "stderr",
     "output_type": "stream",
     "text": [
      "100%|██████████| 23/23 [00:10<00:00,  2.13it/s]\n"
     ]
    }
   ],
   "source": [
    "# GPU selections\n",
    "str_ids = device.split(',')\n",
    "gpu_ids = []\n",
    "for str_id in str_ids:\n",
    "    id = int(str_id)\n",
    "    if id >= 0:\n",
    "        gpu_ids.append(id)\n",
    "if len(gpu_ids) > 0:\n",
    "    torch.cuda.set_device(gpu_ids[0])\n",
    "\n",
    "# Initialize the tester\n",
    "tester = NuScenes_Tester(val_scene_datasets)\n",
    "\n",
    "# Model initialization\n",
    "model = DeepVIO(args)\n",
    "\n",
    "model.load_state_dict(torch.load(ckpt_path))\n",
    "print('load model %s'%ckpt_path)\n",
    "\n",
    "# Feed model to GPU\n",
    "model.cuda(gpu_ids[0])\n",
    "model = torch.nn.DataParallel(model, device_ids = gpu_ids)\n",
    "\n",
    "model.eval()\n",
    "errors = tester.eval(model, 'gumbel-softmax', num_gpu=len(gpu_ids))\n",
    "\n",
    "# results_dir = os.path.join(\"./vis\", \"experiment_20231031_nonkeyframe_ep50\")\n",
    "# mmcv.mkdir_or_exist(results_dir)\n",
    "# tester.generate_plots(results_dir, 30)"
   ]
  },
  {
   "cell_type": "code",
   "execution_count": 68,
   "metadata": {},
   "outputs": [
    {
     "name": "stdout",
     "output_type": "stream",
     "text": [
      "cam_name: CAM_FRONT, t_rmse_avg: 0.085961, r_rmse_avg: 0.131352, usage_avg: 74.866221\n",
      "cam_name: CAM_FRONT_RIGHT, t_rmse_avg: 0.100964, r_rmse_avg: 0.128089, usage_avg: 77.926421\n",
      "cam_name: CAM_BACK_RIGHT, t_rmse_avg: 0.109078, r_rmse_avg: 0.149532, usage_avg: 73.098206\n",
      "cam_name: CAM_BACK, t_rmse_avg: 0.089556, r_rmse_avg: 0.134369, usage_avg: 80.836482\n",
      "cam_name: CAM_BACK_LEFT, t_rmse_avg: 0.111413, r_rmse_avg: 0.164639, usage_avg: 71.332001\n",
      "cam_name: CAM_FRONT_LEFT, t_rmse_avg: 0.104699, r_rmse_avg: 0.162785, usage_avg: 74.468051\n"
     ]
    }
   ],
   "source": [
    "# average errors and usages for each camera\n",
    "cam_errors = {}\n",
    "for idx, scene_error in enumerate(errors):\n",
    "    cam_name = cam_names[idx % len(cam_names)]\n",
    "    \n",
    "    if cam_name not in cam_errors:\n",
    "        cam_errors[cam_name] = []\n",
    "    cam_errors[cam_name].append(scene_error)\n",
    "    \n",
    "for cam_name in cam_errors:\n",
    "    # get the average error and usage\n",
    "    t_rmse_sum = 0\n",
    "    r_rmse_sum = 0\n",
    "    usage_sum = 0\n",
    "    for scene_error in cam_errors[cam_name]:\n",
    "        t_rmse_sum += scene_error['t_rmse']\n",
    "        r_rmse_sum += scene_error['r_rmse']\n",
    "        usage_sum += scene_error['usage']\n",
    "    t_rmse_avg = t_rmse_sum / len(cam_errors[cam_name])\n",
    "    r_rmse_avg = r_rmse_sum / len(cam_errors[cam_name])\n",
    "    usage_avg = usage_sum / len(cam_errors[cam_name])\n",
    "    print('cam_name: %s, t_rmse_avg: %f, r_rmse_avg: %f, usage_avg: %f'%(cam_name, t_rmse_avg, r_rmse_avg, usage_avg))"
   ]
  },
  {
   "cell_type": "code",
   "execution_count": null,
   "metadata": {},
   "outputs": [],
   "source": [
    "# seq len: 11\n",
    "\n",
    "# cam_name: CAM_FRONT, t_rmse_avg: 0.085961, r_rmse_avg: 0.131352, usage_avg: 74.866221\n",
    "# cam_name: CAM_FRONT_RIGHT, t_rmse_avg: 0.100964, r_rmse_avg: 0.128089, usage_avg: 77.926421\n",
    "# cam_name: CAM_BACK_RIGHT, t_rmse_avg: 0.109078, r_rmse_avg: 0.149532, usage_avg: 73.098206\n",
    "# cam_name: CAM_BACK, t_rmse_avg: 0.089556, r_rmse_avg: 0.134369, usage_avg: 80.836482\n",
    "# cam_name: CAM_BACK_LEFT, t_rmse_avg: 0.111413, r_rmse_avg: 0.164639, usage_avg: 71.332001\n",
    "# cam_name: CAM_FRONT_LEFT, t_rmse_avg: 0.104699, r_rmse_avg: 0.162785, usage_avg: 74.468051"
   ]
  },
  {
   "cell_type": "code",
   "execution_count": null,
   "metadata": {},
   "outputs": [],
   "source": [
    "# sequence length: 8\n",
    "\n",
    "# cam_name: CAM_FRONT, t_rmse_avg: 0.090500, r_rmse_avg: 0.133517, usage_avg: 70.971491\n",
    "# cam_name: CAM_FRONT_RIGHT, t_rmse_avg: 0.102885, r_rmse_avg: 0.128351, usage_avg: 74.554342\n",
    "# cam_name: CAM_BACK_RIGHT, t_rmse_avg: 0.117192, r_rmse_avg: 0.151300, usage_avg: 68.218005\n",
    "# cam_name: CAM_BACK, t_rmse_avg: 0.099378, r_rmse_avg: 0.135416, usage_avg: 75.728807\n",
    "# cam_name: CAM_BACK_LEFT, t_rmse_avg: 0.119768, r_rmse_avg: 0.166766, usage_avg: 67.228638\n",
    "# cam_name: CAM_FRONT_LEFT, t_rmse_avg: 0.111839, r_rmse_avg: 0.163894, usage_avg: 69.925339"
   ]
  },
  {
   "cell_type": "code",
   "execution_count": null,
   "metadata": {},
   "outputs": [],
   "source": [
    "# sequence length: 5\n",
    "\n",
    "# cam_name: CAM_FRONT, t_rmse_avg: 0.100449, r_rmse_avg: 0.140109, usage_avg: 63.155962\n",
    "# cam_name: CAM_FRONT_RIGHT, t_rmse_avg: 0.107117, r_rmse_avg: 0.123524, usage_avg: 70.018399\n",
    "# cam_name: CAM_BACK_RIGHT, t_rmse_avg: 0.126840, r_rmse_avg: 0.153187, usage_avg: 60.018217\n",
    "# cam_name: CAM_BACK, t_rmse_avg: 0.106605, r_rmse_avg: 0.140015, usage_avg: 69.032102\n",
    "# cam_name: CAM_BACK_LEFT, t_rmse_avg: 0.120381, r_rmse_avg: 0.172458, usage_avg: 61.706168\n",
    "# cam_name: CAM_FRONT_LEFT, t_rmse_avg: 0.118807, r_rmse_avg: 0.168503, usage_avg: 62.812478"
   ]
  },
  {
   "cell_type": "code",
   "execution_count": null,
   "metadata": {},
   "outputs": [],
   "source": []
  },
  {
   "cell_type": "code",
   "execution_count": null,
   "metadata": {},
   "outputs": [],
   "source": []
  },
  {
   "cell_type": "code",
   "execution_count": null,
   "metadata": {},
   "outputs": [],
   "source": []
  },
  {
   "cell_type": "code",
   "execution_count": null,
   "metadata": {},
   "outputs": [],
   "source": []
  },
  {
   "cell_type": "code",
   "execution_count": null,
   "metadata": {},
   "outputs": [],
   "source": []
  },
  {
   "cell_type": "code",
   "execution_count": null,
   "metadata": {},
   "outputs": [],
   "source": []
  },
  {
   "cell_type": "code",
   "execution_count": null,
   "metadata": {},
   "outputs": [],
   "source": []
  },
  {
   "cell_type": "code",
   "execution_count": null,
   "metadata": {},
   "outputs": [],
   "source": []
  },
  {
   "cell_type": "code",
   "execution_count": null,
   "metadata": {},
   "outputs": [],
   "source": []
  },
  {
   "cell_type": "code",
   "execution_count": null,
   "metadata": {},
   "outputs": [],
   "source": []
  },
  {
   "cell_type": "code",
   "execution_count": null,
   "metadata": {},
   "outputs": [],
   "source": []
  },
  {
   "cell_type": "code",
   "execution_count": null,
   "metadata": {},
   "outputs": [],
   "source": []
  },
  {
   "cell_type": "code",
   "execution_count": null,
   "metadata": {},
   "outputs": [],
   "source": []
  },
  {
   "cell_type": "code",
   "execution_count": null,
   "metadata": {},
   "outputs": [],
   "source": []
  },
  {
   "cell_type": "code",
   "execution_count": null,
   "metadata": {},
   "outputs": [],
   "source": []
  },
  {
   "cell_type": "code",
   "execution_count": null,
   "metadata": {},
   "outputs": [],
   "source": []
  }
 ],
 "metadata": {
  "kernelspec": {
   "display_name": "omnicv",
   "language": "python",
   "name": "python3"
  },
  "language_info": {
   "codemirror_mode": {
    "name": "ipython",
    "version": 3
   },
   "file_extension": ".py",
   "mimetype": "text/x-python",
   "name": "python",
   "nbconvert_exporter": "python",
   "pygments_lexer": "ipython3",
   "version": "3.8.13"
  }
 },
 "nbformat": 4,
 "nbformat_minor": 2
}
